{
  "nbformat": 4,
  "nbformat_minor": 0,
  "metadata": {
    "colab": {
      "provenance": []
    },
    "kernelspec": {
      "name": "python3",
      "display_name": "Python 3"
    },
    "language_info": {
      "name": "python"
    }
  },
  "cells": [
    {
      "cell_type": "markdown",
      "source": [
        "Natural Language Processing (NLP)"
      ],
      "metadata": {
        "id": "WJISqCt3AVZO"
      }
    },
    {
      "cell_type": "code",
      "execution_count": null,
      "metadata": {
        "id": "G9qQ3G_ZukyH"
      },
      "outputs": [],
      "source": [
        "\n",
        "!pip install transformers\n",
        "import transformers\n",
        "from transformers import Conversation\n"
      ]
    },
    {
      "cell_type": "markdown",
      "source": [],
      "metadata": {
        "id": "tPwjIGojAOgn"
      }
    },
    {
      "cell_type": "code",
      "source": [
        "from transformers import pipeline"
      ],
      "metadata": {
        "id": "Mfwu8gRR51pD"
      },
      "execution_count": null,
      "outputs": []
    },
    {
      "cell_type": "code",
      "source": [
        "\n",
        "model_id = \"facebook/blenderbot-400M-distill\"\n",
        "chatbot = pipeline(\"conversational\", model=model_id)\n"
      ],
      "metadata": {
        "id": "kxj2gKfg6Pdf"
      },
      "execution_count": null,
      "outputs": []
    },
    {
      "cell_type": "code",
      "source": [
        "\n",
        "user_messages = [\n",
        "    \"\"\"\n",
        "    what are the best books to read for 2024 ?\n",
        "    \"\"\",\n",
        "    \"\"\"\n",
        "    Any recommendations for books on personal finance?\n",
        "    \"\"\",\n",
        "    \"\"\"\n",
        "    I'm looking for a good mystery novel. Any suggestions?\n",
        "    \"\"\",\n",
        "]\n",
        "\n"
      ],
      "metadata": {
        "id": "ne_7dNTH8Ocm"
      },
      "execution_count": null,
      "outputs": []
    },
    {
      "cell_type": "code",
      "source": [
        "conversation = Conversation(user_message)\n"
      ],
      "metadata": {
        "id": "Br7_JNZe6gmw"
      },
      "execution_count": null,
      "outputs": []
    },
    {
      "cell_type": "code",
      "source": [
        "conversation = chatbot(conversation)"
      ],
      "metadata": {
        "id": "dJZ_DVpu8CjA"
      },
      "execution_count": null,
      "outputs": []
    },
    {
      "cell_type": "code",
      "source": [
        "print(conversation)"
      ],
      "metadata": {
        "colab": {
          "base_uri": "https://localhost:8080/"
        },
        "id": "jNVIDIZ07_qI",
        "outputId": "bab89cd8-0760-4f16-84aa-0b8b2c54b8a5"
      },
      "execution_count": null,
      "outputs": [
        {
          "output_type": "stream",
          "name": "stdout",
          "text": [
            "Conversation id: 154294f2-8d2f-4da7-b87e-f43601ca7d4c\n",
            "user: \n",
            "what are the best books to read for 2024 ?\n",
            "\n",
            "assistant:  I would have to say 1984 by J.K. Rowling is one of my favorites.\n",
            "\n"
          ]
        }
      ]
    }
  ]
}